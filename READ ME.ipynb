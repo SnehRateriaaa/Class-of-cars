{
 "cells": [
  {
   "cell_type": "markdown",
   "id": "7f249bde",
   "metadata": {},
   "source": [
    "# Data Analysis \n",
    "\n",
    "- A data was chosen that contained details and attributes of car models\n",
    "- This data has 1728 entries of cars and gives us different attributes of them so that the user can choose the perfect model \n",
    "according to his needs\n",
    "- The car data was downloaded from the following source https://scikit-learn.org/stable/datasets/real_world.html\n",
    "- Data was read, checked for missing values, handled categories, correlated, split for training and testing and applied and tuned classification algorithms\n",
    "\n",
    "\n",
    "### Resources Used\n",
    "\n",
    "#### Python version\n",
    "3.8\n",
    "#### Packages Used\n",
    "numpy, pandas, seaborn, matplotlib, sklearn\n",
    "\n"
   ]
  }
 ],
 "metadata": {
  "kernelspec": {
   "display_name": "Python 3",
   "language": "python",
   "name": "python3"
  },
  "language_info": {
   "codemirror_mode": {
    "name": "ipython",
    "version": 3
   },
   "file_extension": ".py",
   "mimetype": "text/x-python",
   "name": "python",
   "nbconvert_exporter": "python",
   "pygments_lexer": "ipython3",
   "version": "3.8.8"
  }
 },
 "nbformat": 4,
 "nbformat_minor": 5
}
